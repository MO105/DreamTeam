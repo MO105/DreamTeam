{
 "cells": [
  {
   "cell_type": "markdown",
   "metadata": {},
   "source": [
    "# Data mining - Genomic locations of phosphosites."
   ]
  },
  {
   "cell_type": "code",
   "execution_count": 1,
   "metadata": {},
   "outputs": [],
   "source": [
    "#Import required packagaes\n",
    "import pandas as pd\n",
    "import re"
   ]
  },
  {
   "cell_type": "markdown",
   "metadata": {},
   "source": [
    "# Genomic location of substrate genes.\n",
    "Using substrate accession numbers from kinase/substrate dataframe to collect genomic locations of substrate genes from ensembl Biomart."
   ]
  },
  {
   "cell_type": "code",
   "execution_count": 4,
   "metadata": {},
   "outputs": [],
   "source": [
    "#Read file with all kinase and substrate data.\n",
    "hk_sub_df = pd.read_csv(\"new_clean_human_kinase_substrates.csv\")\n",
    "#Remove gene name duplicates-this is due to most substrates having multiple phosphosites.\n",
    "hk_sub_df=hk_sub_df.drop_duplicates(subset='SUB_ACC_ID', keep='first', inplace=False)\n",
    "\n",
    "\n",
    "\n",
    "#From kinse and substrate dataframe create create a new csv file containing only substrate gene accession numbers. \n",
    "hk_sub_Acc=hk_sub_df['SUB_ACC_ID']\n",
    "hk_sub_Acc.to_csv('hk_sub_Acc.csv', sep=',', header=False, index=False) #This file will be uploaded to the ensembl biomart search.\n",
    "\n",
    "\n",
    "\n",
    "#From kinse and substrate dataframe create a new dataframe containing only gene names and gene accession IDs-Genomic locations will be added to this dataframe.\n",
    "hk_sub_GeneNames_Acc=hk_sub_df[['SUB_GENE', 'SUB_ACC_ID']]\n"
   ]
  },
  {
   "cell_type": "code",
   "execution_count": 5,
   "metadata": {},
   "outputs": [],
   "source": [
    "#Read in file with genomic locations of substrate genes generated from ensemble biomart. *database-attributes.*\n",
    "Biomart_sub_gene_locations_df = pd.read_csv(\"Biomart_sub_gene_locations.csv\")\n",
    "Biomart_sub_gene_locations_df.columns=['SUB_GENE', 'Chromosome', 'Karyotype band', 'Strand'] #Change column names.\n"
   ]
  },
  {
   "cell_type": "markdown",
   "metadata": {},
   "source": [
    "# Extracting genomic coordinates of phosphosites\n",
    "Using a url extract genomic coordinates for each phosphosite on each substrate."
   ]
  },
  {
   "cell_type": "code",
   "execution_count": 9,
   "metadata": {},
   "outputs": [],
   "source": [
    "#Create an empty dataframe into which extracted data will be added.\n",
    "Sub_PS_Genomic_Loc_df=pd.DataFrame(columns=['SUB_ACC_ID', 'Amino acid', 'Position', 'Start co', 'End co'])\n",
    "\n",
    "#Read in Substrate gene location file to create data frame with accession numbers only.\n",
    "hk_sub_df=pd.read_csv(\"Sub_GeneLocation_df.csv\")\n",
    "hk_sub_acc_df=hk_sub_df['SUB_ACC_ID']\n",
    "# print(len(hk_sub_acc_df))\n",
    "# hk_sub_acc_df_test=hk_sub_acc_df[0:500]\n",
    "\n",
    "#Extracting phosphosite information from Ebi.\n",
    "\n",
    "for i in hk_sub_acc_df:\n",
    "    url = 'https://www.ebi.ac.uk/proteins/api/coordinates/{}'.format(i)  #Itterating through accession numbers create a url for each accession number.\n",
    "    r = requests.get(url)  #Obtain url information.\n",
    "    r_txt=r.text    #Convert url information into text.\n",
    "    MR_info=re.findall('(?<=modified )(.*?)(?=feature)', r_txt) #Find all sections of the text which contain the information about modified residues which includes phosphosites.\n",
    "   \n",
    "    \n",
    "#Create regular expressions to extract phosphosite position, amino acid, start and end coordinates.\n",
    "#Create empty lists for the different data to be stored.\n",
    "\n",
    "     #Position\n",
    "    regex_ps_pos= re.compile('(?<=position=\")(.*?)(?=\")')\n",
    "    ps_pos=[]\n",
    "\n",
    "    #AA\n",
    "    regex_ps_aa= re.compile('(?<=Phospho)(.*?)(?=<|;)')\n",
    "    ps_aa=[]\n",
    "\n",
    "    #Start\n",
    "    regex_ps_gs= re.compile('(?<=begin position=\")(.*?)(?=\")')\n",
    "    ps_gs=[]\n",
    "\n",
    "    #End\n",
    "    regex_ps_ge= re.compile('(?<=end position=\")(.*?)(?=\")')\n",
    "    ps_ge=[]\n",
    "    Sub_Acc=[]\n",
    "    for entry in MR_info:                            #Itterating through each modified residue information section.\n",
    "        Sub_Acc.append(i)                            #Add the accession number of the gene to a list so each entry contains the gene accession number.\n",
    "        for p in re.findall(regex_ps_pos, entry):    #Find the position of the phosphosite.\n",
    "            if len(p)<=4:                            #Only add to the positions list if value is less than or equal to 4 digits to avoid adding genomic coordinates.\n",
    "                ps_pos.append(p)\n",
    "        for a in re.findall(regex_ps_aa, entry):     #Find amino acid at phosphosite and append to relevent list.\n",
    "            ps_aa.append(a)                        \n",
    "        for s in re.findall(regex_ps_gs, entry):     #Find start coordinate of phosphosite and append to relevent list.\n",
    "            ps_gs.append(s)\n",
    "        for e in re.findall(regex_ps_ge, entry):     #Find end coordinate of phosphosite and append to relevent list.\n",
    "            ps_ge.append(e)\n",
    "            \n",
    "#Zip all the lists and append to dataframe created previously. Change column names.\n",
    "    Sub_PS_Genomic_Loc_df = Sub_PS_Genomic_Loc_df.append(pd.DataFrame((zip(Sub_Acc, ps_aa, ps_pos, ps_gs, ps_ge)), columns =['SUB_ACC_ID', 'Amino acid', 'Position', 'Start co', 'End co']))\n",
    "\n",
    "#Convert amino acid names to one letter codes. \n",
    "Sub_PS_Genomic_Loc_df=Sub_PS_Genomic_Loc_df.replace(['serine.','serine'], 'S')\n",
    "Sub_PS_Genomic_Loc_df=Sub_PS_Genomic_Loc_df.replace(['threonine.', 'threonine'], 'T')\n",
    "Sub_PS_Genomic_Loc_df=Sub_PS_Genomic_Loc_df.replace(['tyrosine.', 'tyrosine'], 'Y')\n",
    "\n",
    "#Combine phosphosite amino acid and position to have standardised information which can later be used to merge dataframes.\n",
    "Sub_PS_Genomic_Loc_df['PS'] = Sub_PS_Genomic_Loc_df['Amino acid'] + Sub_PS_Genomic_Loc_df['Position']\n",
    "\n",
    "del Sub_PS_Genomic_Loc_df['Amino acid'] #Delete columns which are no longer required.\n",
    "del Sub_PS_Genomic_Loc_df['Position']\n",
    "\n",
    "#Re order columns\n",
    "Sub_PS_Genomic_Loc_df = Sub_PS_Genomic_Loc_df[['SUB_ACC_ID', 'PS', 'Start co', 'End co']]\n",
    "\n",
    "\n",
    "#Generate a csv file from the dataframe created.\n",
    "Sub_PS_Genomic_Loc_df.to_csv('PS_genomic_locations.csv', sep=',', header=True, index=False)"
   ]
  }
 ],
 "metadata": {
  "kernelspec": {
   "display_name": "Python 3",
   "language": "python",
   "name": "python3"
  },
  "language_info": {
   "codemirror_mode": {
    "name": "ipython",
    "version": 3
   },
   "file_extension": ".py",
   "mimetype": "text/x-python",
   "name": "python",
   "nbconvert_exporter": "python",
   "pygments_lexer": "ipython3",
   "version": "3.7.4"
  }
 },
 "nbformat": 4,
 "nbformat_minor": 2
}
