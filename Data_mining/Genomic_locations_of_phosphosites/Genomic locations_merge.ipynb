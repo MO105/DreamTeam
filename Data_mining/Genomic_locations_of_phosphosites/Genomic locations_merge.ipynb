{
 "cells": [
  {
   "cell_type": "markdown",
   "metadata": {},
   "source": [
    "# Creating a single dataframe of phosphosite genomic locations with neighbouring amino acids, substarte and kinase information."
   ]
  },
  {
   "cell_type": "code",
   "execution_count": 1,
   "metadata": {},
   "outputs": [],
   "source": [
    "#Import required packagaes\n",
    "import pandas as pd"
   ]
  },
  {
   "cell_type": "code",
   "execution_count": 2,
   "metadata": {},
   "outputs": [],
   "source": [
    "#Read in files to be merged.\n",
    "kinase_df = pd.read_csv(\"new_clean_human_kinase_substrates.csv\")  #Kinase/substarte dataframe.\n",
    "Biomart_df = pd.read_csv(\"Biomart_sub_gene_locations.csv\")  #Genomic locations of substrate genes from ensembl biomart.\n",
    "PS_gl_df = pd.read_csv(\"PS_genomic_locations.csv\") #Genomic coordinates of individual phosphosites.\n"
   ]
  },
  {
   "cell_type": "code",
   "execution_count": 4,
   "metadata": {},
   "outputs": [],
   "source": [
    "#From kinase_df create new dataframe only with relevant columns.\n",
    "kinase_sub_rsd_df=kinase_df[['KINASE', 'KIN_ACC_ID', 'SUB_ACC_ID', 'SUB_GENE', 'SUB_MOD_RSD', 'SITE_+/-7_AA']]\n"
   ]
  },
  {
   "cell_type": "code",
   "execution_count": 5,
   "metadata": {},
   "outputs": [],
   "source": [
    "#Change Biomart 'gene name' column to 'SUB_GENE'to simplify the joining of dataframes.\n",
    "Biomart_df=Biomart_df.rename(columns={\"Gene name\": \"SUB_GENE\"})\n",
    "\n",
    "#join genomic locations from Biomart with relevant columns from kinase/substrate dataframe.\n",
    "#This can be joined because each substrate gene has a single genomic location, although can have multiple phosphosites and kinases.\n",
    "Biomart_and_kinase=kinase_sub_rsd_df.join(Biomart_df.set_index('SUB_GENE'), on='SUB_GENE')\n"
   ]
  },
  {
   "cell_type": "code",
   "execution_count": 6,
   "metadata": {
    "scrolled": true
   },
   "outputs": [],
   "source": [
    "#Change PS_gl_df 'PS' column to 'SUB_MOD_RSD' to simplify merging of dataframes.\n",
    "PS_gl_df=PS_gl_df.rename(columns={\"PS\": \"SUB_MOD_RSD\"})\n",
    "\n",
    "\n",
    "##Merge phosphosite genomic coordinates with rest of the relevant information.\n",
    "#This has to be merged as the same substrate will have multiple phosphosites which have different coordiantes, so merge by 2 columns ('SUB_ACC_ID' and 'SUB_MOD_RSD'). \n",
    "Phosphosite_genomic_locations=pd.merge(Biomart_and_kinase, PS_gl_df, on=['SUB_ACC_ID', 'SUB_MOD_RSD'])\n",
    "\n",
    "#Create final csv file from resulting dataframe.\n",
    "Phosphosite_genomic_locations.to_csv('Phosphosite_genomic_locations.csv', sep=',', header=True, index=False) "
   ]
  }
 ],
 "metadata": {
  "kernelspec": {
   "display_name": "Python 3",
   "language": "python",
   "name": "python3"
  },
  "language_info": {
   "codemirror_mode": {
    "name": "ipython",
    "version": 3
   },
   "file_extension": ".py",
   "mimetype": "text/x-python",
   "name": "python",
   "nbconvert_exporter": "python",
   "pygments_lexer": "ipython3",
   "version": "3.7.4"
  }
 },
 "nbformat": 4,
 "nbformat_minor": 2
}
